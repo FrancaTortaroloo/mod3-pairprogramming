{
 "cells": [
  {
   "cell_type": "markdown",
   "metadata": {},
   "source": [
    "### El objetivo de la clase de hoy será crear unos cuántos DataFrames y Series a través de los siguientes ejercicios:\n",
    "\n",
    "1. ¿Qué diferencia hay entre una Serie y un DataFrame?"
   ]
  },
  {
   "cell_type": "markdown",
   "metadata": {},
   "source": [
    "2. Momento de trabajar con Series. Contesta a las siguientes preguntas:\n",
    "\n",
    "Crea dos listas:\n",
    "\n",
    "Una que se llame \"valores\" que tenga 7 números aleatorios.\n",
    "\n",
    "Otra que se llame \"indices\" que tenga 7 strings que se llamen como los días de la semana."
   ]
  },
  {
   "cell_type": "code",
   "execution_count": 2,
   "metadata": {},
   "outputs": [],
   "source": [
    "import pandas as pd"
   ]
  },
  {
   "cell_type": "code",
   "execution_count": 3,
   "metadata": {},
   "outputs": [],
   "source": [
    "valores = [7,1,2,6,3,5,4]\n",
    "indices = ['lun', 'mar', 'mie', 'jue', 'vie','sab', 'dom']"
   ]
  },
  {
   "cell_type": "markdown",
   "metadata": {},
   "source": [
    "A partir de estas dos listas crea una Serie donde la variable \"valores\" sean los valores de la Serie y la variable indices sean los índices de la Serie."
   ]
  },
  {
   "cell_type": "code",
   "execution_count": 39,
   "metadata": {},
   "outputs": [
    {
     "data": {
      "text/plain": [
       "lun    7\n",
       "mar    1\n",
       "mie    2\n",
       "jue    6\n",
       "vie    3\n",
       "sab    5\n",
       "dom    4\n",
       "dtype: int64"
      ]
     },
     "execution_count": 39,
     "metadata": {},
     "output_type": "execute_result"
    }
   ],
   "source": [
    "series_1 = pd.Series(valores, index = indices) \n",
    "series_1"
   ]
  },
  {
   "cell_type": "markdown",
   "metadata": {},
   "source": [
    "A partir de las dos listas anteriores crea un diccionario usando un bucle for. Para hacer esto tenemos el método zip \n",
    "que nos permite iterar por dos listas a la vez. Más informción sobre este método aquí."
   ]
  },
  {
   "cell_type": "code",
   "execution_count": 40,
   "metadata": {},
   "outputs": [
    {
     "name": "stdout",
     "output_type": "stream",
     "text": [
      "{'lun': 7, 'mar': 1, 'mie': 2, 'jue': 6, 'vie': 3, 'sab': 5, 'dom': 4}\n"
     ]
    }
   ],
   "source": [
    "# Inicializamos el diccionario vacío\n",
    "diccionario = {}\n",
    "\n",
    "# Usamos zip para iterar sobre ambas listas simultáneamente\n",
    "for indice, valor in zip(indices, valores):\n",
    "    diccionario[indice] = valor\n",
    "\n",
    "# Imprimimos el diccionario resultante\n",
    "print(diccionario)"
   ]
  },
  {
   "cell_type": "markdown",
   "metadata": {},
   "source": [
    "Crea una Serie con el diccionario creado en el punto anterior.\n",
    "\n"
   ]
  },
  {
   "cell_type": "code",
   "execution_count": 41,
   "metadata": {},
   "outputs": [
    {
     "data": {
      "text/plain": [
       "lun    7\n",
       "mar    1\n",
       "mie    2\n",
       "jue    6\n",
       "vie    3\n",
       "sab    5\n",
       "dom    4\n",
       "dtype: int64"
      ]
     },
     "execution_count": 41,
     "metadata": {},
     "output_type": "execute_result"
    }
   ],
   "source": [
    "dias_dic = pd.Series(diccionario)\n",
    "dias_dic"
   ]
  },
  {
   "cell_type": "markdown",
   "metadata": {},
   "source": [
    "¿Qué forma tiene esta última Serie?\n",
    "\n",
    "¿Qué tipo de datos tiene?\n",
    "\n",
    "¿Qué tamaño tiene?\n",
    "\n",
    "¿Cuáles son los índices de la Serie?\n",
    "\n",
    "¿Y los values?"
   ]
  },
  {
   "cell_type": "code",
   "execution_count": 15,
   "metadata": {},
   "outputs": [
    {
     "name": "stdout",
     "output_type": "stream",
     "text": [
      "El método 'index' nos devuelve los índices de la Serie: Index(['lun', 'mar', 'mie', 'jue', 'vie', 'sab', 'dom'], dtype='object')\n",
      "---------------------------\n",
      "El método 'values' nos devuelve los valores de la Serie: [7 1 2 6 3 5 4]\n",
      "---------------------------\n",
      "El método 'shape' nos devuelve la forma de la Serie: (7,)\n",
      "---------------------------\n",
      "El método 'size' nos devuelve el número de elementos de la Serie: 7\n",
      "---------------------------\n",
      "El método 'dtypes' nos devuelve el tipo de datos de la Serie: int64\n"
     ]
    }
   ],
   "source": [
    "print(f\"El método 'index' nos devuelve los índices de la Serie: {dias_dic.index}\")\n",
    "print(\"---------------------------\")\n",
    "\n",
    "\n",
    "print(f\"El método 'values' nos devuelve los valores de la Serie: {dias_dic.values}\")\n",
    "print(\"---------------------------\")\n",
    "\n",
    "print(f\"El método 'shape' nos devuelve la forma de la Serie: {dias_dic.shape}\")\n",
    "print(\"---------------------------\")\n",
    "\n",
    "\n",
    "print(f\"El método 'size' nos devuelve el número de elementos de la Serie: {dias_dic.size}\")\n",
    "print(\"---------------------------\")\n",
    "\n",
    "\n",
    "print(f\"El método 'dtypes' nos devuelve el tipo de datos de la Serie: {dias_dic.dtypes}\")"
   ]
  },
  {
   "cell_type": "markdown",
   "metadata": {},
   "source": [
    "Extrae el valor para el índice \"lunes\"\n",
    "\n",
    "Extrae el valor para el índice \"lunes\", \"martes\" y \"miércoles\".\n",
    "\n",
    "Extrae el valor para el índice \"lunes\" y \"domingo\"."
   ]
  },
  {
   "cell_type": "code",
   "execution_count": 44,
   "metadata": {},
   "outputs": [
    {
     "data": {
      "text/html": [
       "<div>\n",
       "<style scoped>\n",
       "    .dataframe tbody tr th:only-of-type {\n",
       "        vertical-align: middle;\n",
       "    }\n",
       "\n",
       "    .dataframe tbody tr th {\n",
       "        vertical-align: top;\n",
       "    }\n",
       "\n",
       "    .dataframe thead th {\n",
       "        text-align: right;\n",
       "    }\n",
       "</style>\n",
       "<table border=\"1\" class=\"dataframe\">\n",
       "  <thead>\n",
       "    <tr style=\"text-align: right;\">\n",
       "      <th></th>\n",
       "      <th>0</th>\n",
       "    </tr>\n",
       "  </thead>\n",
       "  <tbody>\n",
       "    <tr>\n",
       "      <th>lun</th>\n",
       "      <td>7</td>\n",
       "    </tr>\n",
       "    <tr>\n",
       "      <th>mar</th>\n",
       "      <td>1</td>\n",
       "    </tr>\n",
       "    <tr>\n",
       "      <th>mie</th>\n",
       "      <td>2</td>\n",
       "    </tr>\n",
       "    <tr>\n",
       "      <th>jue</th>\n",
       "      <td>6</td>\n",
       "    </tr>\n",
       "    <tr>\n",
       "      <th>vie</th>\n",
       "      <td>3</td>\n",
       "    </tr>\n",
       "    <tr>\n",
       "      <th>sab</th>\n",
       "      <td>5</td>\n",
       "    </tr>\n",
       "    <tr>\n",
       "      <th>dom</th>\n",
       "      <td>4</td>\n",
       "    </tr>\n",
       "  </tbody>\n",
       "</table>\n",
       "</div>"
      ],
      "text/plain": [
       "     0\n",
       "lun  7\n",
       "mar  1\n",
       "mie  2\n",
       "jue  6\n",
       "vie  3\n",
       "sab  5\n",
       "dom  4"
      ]
     },
     "execution_count": 44,
     "metadata": {},
     "output_type": "execute_result"
    }
   ],
   "source": [
    "df_dic_dias = pd.DataFrame(dias_dic)\n",
    "df_dic_dias"
   ]
  },
  {
   "cell_type": "code",
   "execution_count": 48,
   "metadata": {},
   "outputs": [
    {
     "name": "stdout",
     "output_type": "stream",
     "text": [
      "El valor que está en indice 'Lunes' es: 7\n",
      "El valor d lunes, martes, miercoles es: \n",
      "      0\n",
      "lun  7\n",
      "mar  1\n",
      "mie  2\n",
      "El valor d lunes, y domingo es: \n",
      "      0\n",
      "lun  7\n",
      "dom  4\n"
     ]
    }
   ],
   "source": [
    "print(\"El valor que está en indice 'Lunes' es:\", dias_dic['lun'])  \n",
    "\n",
    "\n",
    "\n",
    "print(f\"El valor d lunes, martes, miercoles es: \\n {df_dic_dias.loc['lun':'mie']}\")\n",
    "\n",
    "print(f\"El valor d lunes, y domingo es: \\n {df_dic_dias.loc[['lun','dom']]}\")"
   ]
  }
 ],
 "metadata": {
  "kernelspec": {
   "display_name": "Python 3",
   "language": "python",
   "name": "python3"
  },
  "language_info": {
   "codemirror_mode": {
    "name": "ipython",
    "version": 3
   },
   "file_extension": ".py",
   "mimetype": "text/x-python",
   "name": "python",
   "nbconvert_exporter": "python",
   "pygments_lexer": "ipython3",
   "version": "3.11.5"
  }
 },
 "nbformat": 4,
 "nbformat_minor": 2
}
