{
 "cells": [
  {
   "cell_type": "code",
   "execution_count": 2,
   "metadata": {},
   "outputs": [],
   "source": [
    "\n",
    "# importamos las librerías que necesitamos\n",
    "\n",
    "# Tratamiento de datos\n",
    "# -----------------------------------------------------------------------\n",
    "import pandas as pd\n",
    "import numpy as np\n",
    "\n",
    "# Visualización\n",
    "# ------------------------------------------------------------------------------\n",
    "import matplotlib.pyplot as plt\n",
    "import seaborn as sns\n",
    "\n",
    "# Evaluar linealidad de las relaciones entre las variables\n",
    "# y la distribución de las variables\n",
    "# ------------------------------------------------------------------------------\n",
    "import scipy.stats as stats\n",
    "from scipy.stats import chi2_contingency, ttest_ind\n",
    "\n",
    "# Configuración\n",
    "# -----------------------------------------------------------------------\n",
    "pd.set_option('display.max_columns', None) # para poder visualizar todas las columnas de los DataFrames\n",
    "\n",
    "# Gestión de los warnings\n",
    "# -----------------------------------------------------------------------\n",
    "import warnings\n",
    "warnings.filterwarnings(\"ignore\")"
   ]
  },
  {
   "cell_type": "code",
   "execution_count": 34,
   "metadata": {},
   "outputs": [
    {
     "data": {
      "text/html": [
       "<div>\n",
       "<style scoped>\n",
       "    .dataframe tbody tr th:only-of-type {\n",
       "        vertical-align: middle;\n",
       "    }\n",
       "\n",
       "    .dataframe tbody tr th {\n",
       "        vertical-align: top;\n",
       "    }\n",
       "\n",
       "    .dataframe thead th {\n",
       "        text-align: right;\n",
       "    }\n",
       "</style>\n",
       "<table border=\"1\" class=\"dataframe\">\n",
       "  <thead>\n",
       "    <tr style=\"text-align: right;\">\n",
       "      <th></th>\n",
       "      <th>user id</th>\n",
       "      <th>test group</th>\n",
       "      <th>converted</th>\n",
       "      <th>total ads</th>\n",
       "      <th>most ads day</th>\n",
       "      <th>most ads hour</th>\n",
       "    </tr>\n",
       "  </thead>\n",
       "  <tbody>\n",
       "    <tr>\n",
       "      <th>0</th>\n",
       "      <td>1069124</td>\n",
       "      <td>ad</td>\n",
       "      <td>False</td>\n",
       "      <td>130</td>\n",
       "      <td>Monday</td>\n",
       "      <td>20</td>\n",
       "    </tr>\n",
       "    <tr>\n",
       "      <th>1</th>\n",
       "      <td>1119715</td>\n",
       "      <td>ad</td>\n",
       "      <td>False</td>\n",
       "      <td>93</td>\n",
       "      <td>Tuesday</td>\n",
       "      <td>22</td>\n",
       "    </tr>\n",
       "    <tr>\n",
       "      <th>2</th>\n",
       "      <td>1144181</td>\n",
       "      <td>ad</td>\n",
       "      <td>False</td>\n",
       "      <td>21</td>\n",
       "      <td>Tuesday</td>\n",
       "      <td>18</td>\n",
       "    </tr>\n",
       "    <tr>\n",
       "      <th>3</th>\n",
       "      <td>1435133</td>\n",
       "      <td>ad</td>\n",
       "      <td>False</td>\n",
       "      <td>355</td>\n",
       "      <td>Tuesday</td>\n",
       "      <td>10</td>\n",
       "    </tr>\n",
       "    <tr>\n",
       "      <th>4</th>\n",
       "      <td>1015700</td>\n",
       "      <td>ad</td>\n",
       "      <td>False</td>\n",
       "      <td>276</td>\n",
       "      <td>Friday</td>\n",
       "      <td>14</td>\n",
       "    </tr>\n",
       "  </tbody>\n",
       "</table>\n",
       "</div>"
      ],
      "text/plain": [
       "   user id test group  converted  total ads most ads day  most ads hour\n",
       "0  1069124         ad      False        130       Monday             20\n",
       "1  1119715         ad      False         93      Tuesday             22\n",
       "2  1144181         ad      False         21      Tuesday             18\n",
       "3  1435133         ad      False        355      Tuesday             10\n",
       "4  1015700         ad      False        276       Friday             14"
      ]
     },
     "execution_count": 34,
     "metadata": {},
     "output_type": "execute_result"
    }
   ],
   "source": [
    "df = pd.read_csv(\"marketing_AB.csv\", index_col= 0)\n",
    "df.head()"
   ]
  },
  {
   "cell_type": "markdown",
   "metadata": {},
   "source": [
    "Ejericicios de A/B Testing\n",
    "Ejercicio 1:\n",
    "\n",
    "   Objetivo del ejercicio: Comparar las tasas de conversión entre los grupos de prueba \"ad\" y \"psa\" para determinar si el nuevo diseño de anuncio es más efectivo en la conversión de usuarios.\n",
    "        Definición de las hipótesis: \n",
    "\n",
    "            Hipótesis nula (H0): No hay diferencia significativa en la tasa de conversión entre los grupos de prueba \"ad\" y \"psa\".\n",
    "\n",
    "            Hipótesis alternativa (H1): Existe una diferencia significativa en la tasa de conversión entre los grupos de prueba \"ad\" y \"psa\".\n"
   ]
  },
  {
   "cell_type": "markdown",
   "metadata": {},
   "source": [
    "a) Asegúrate de que los datos estén limpios y listos para el análisis. Esto incluye la eliminación de datos faltantes"
   ]
  },
  {
   "cell_type": "code",
   "execution_count": 9,
   "metadata": {},
   "outputs": [],
   "source": [
    "# una vez que tengamos nuestro DataFrame preparado con todas las columnas que queremos vamos a crear una función que no haga una exploración inicial del conjunto de datos\n",
    "def exploracion_dataframe(dataframe, columna_control):\n",
    "        # generamos un DataFrame para los valores nulos\n",
    "    print(\"Los nulos que tenemos en el conjunto de datos son:\")\n",
    "    df_nulos = pd.DataFrame(dataframe.isnull().sum() / dataframe.shape[0] * 100, columns = [\"%_nulos\"])\n",
    "    display(df_nulos[df_nulos[\"%_nulos\"] > 0])\n",
    "    \n",
    "    print(\"\\n ..................... \\n\")\n",
    "    print(f\"Los tipos de las columnas son:\")\n",
    "    display(pd.DataFrame(dataframe.dtypes, columns = [\"tipo_dato\"]))\n",
    "    \n",
    "    \n",
    "    print(\"\\n ..................... \\n\")\n",
    "    print(\"Los valores que tenemos para las columnas categóricas son: \")\n",
    "    dataframe_categoricas = dataframe.select_dtypes(include = \"O\")\n",
    "    \n",
    "    for col in dataframe_categoricas.columns:\n",
    "        print(f\"La columna {col.upper()} tiene las siguientes valore únicos:\")\n",
    "        display(pd.DataFrame(dataframe[col].value_counts()).head())    \n",
    "    \n",
    "    # como estamos en un problema de A/B testing y lo que realmente nos importa es comparar entre el grupo de control y el de test, los principales estadísticos los vamos a sacar de cada una de las categorías\n",
    "    \n",
    "    for categoria in dataframe[columna_control].unique():\n",
    "        \n",
    "        dataframe_filtrado = dataframe[dataframe[columna_control] == categoria]\n",
    "    \n",
    "        print(\"\\n ..................... \\n\")\n",
    "        print(f\"Los principales estadísticos de las columnas categóricas para el {categoria.upper()} son: \")\n",
    "        display(dataframe_filtrado.describe(include = \"O\").T)\n",
    "        \n",
    "        print(\"\\n ..................... \\n\")\n",
    "        print(f\"Los principales estadísticos de las columnas numéricas para el {categoria.upper()} son: \")\n",
    "        display(dataframe_filtrado.describe().T)"
   ]
  },
  {
   "cell_type": "code",
   "execution_count": 11,
   "metadata": {},
   "outputs": [
    {
     "data": {
      "text/plain": [
       "array(['ad', 'psa'], dtype=object)"
      ]
     },
     "execution_count": 11,
     "metadata": {},
     "output_type": "execute_result"
    }
   ],
   "source": [
    "df['test group'].unique()"
   ]
  },
  {
   "cell_type": "code",
   "execution_count": 12,
   "metadata": {},
   "outputs": [
    {
     "data": {
      "text/plain": [
       "user id          0\n",
       "test group       0\n",
       "converted        0\n",
       "total ads        0\n",
       "most ads day     0\n",
       "most ads hour    0\n",
       "dtype: int64"
      ]
     },
     "execution_count": 12,
     "metadata": {},
     "output_type": "execute_result"
    }
   ],
   "source": [
    "df.isnull().sum()"
   ]
  },
  {
   "cell_type": "code",
   "execution_count": 13,
   "metadata": {},
   "outputs": [
    {
     "data": {
      "text/plain": [
       "0"
      ]
     },
     "execution_count": 13,
     "metadata": {},
     "output_type": "execute_result"
    }
   ],
   "source": [
    "df.duplicated().sum()"
   ]
  },
  {
   "cell_type": "code",
   "execution_count": 10,
   "metadata": {},
   "outputs": [
    {
     "name": "stdout",
     "output_type": "stream",
     "text": [
      "Los nulos que tenemos en el conjunto de datos son:\n"
     ]
    },
    {
     "data": {
      "text/html": [
       "<div>\n",
       "<style scoped>\n",
       "    .dataframe tbody tr th:only-of-type {\n",
       "        vertical-align: middle;\n",
       "    }\n",
       "\n",
       "    .dataframe tbody tr th {\n",
       "        vertical-align: top;\n",
       "    }\n",
       "\n",
       "    .dataframe thead th {\n",
       "        text-align: right;\n",
       "    }\n",
       "</style>\n",
       "<table border=\"1\" class=\"dataframe\">\n",
       "  <thead>\n",
       "    <tr style=\"text-align: right;\">\n",
       "      <th></th>\n",
       "      <th>%_nulos</th>\n",
       "    </tr>\n",
       "  </thead>\n",
       "  <tbody>\n",
       "  </tbody>\n",
       "</table>\n",
       "</div>"
      ],
      "text/plain": [
       "Empty DataFrame\n",
       "Columns: [%_nulos]\n",
       "Index: []"
      ]
     },
     "metadata": {},
     "output_type": "display_data"
    },
    {
     "name": "stdout",
     "output_type": "stream",
     "text": [
      "\n",
      " ..................... \n",
      "\n",
      "Los tipos de las columnas son:\n"
     ]
    },
    {
     "data": {
      "text/html": [
       "<div>\n",
       "<style scoped>\n",
       "    .dataframe tbody tr th:only-of-type {\n",
       "        vertical-align: middle;\n",
       "    }\n",
       "\n",
       "    .dataframe tbody tr th {\n",
       "        vertical-align: top;\n",
       "    }\n",
       "\n",
       "    .dataframe thead th {\n",
       "        text-align: right;\n",
       "    }\n",
       "</style>\n",
       "<table border=\"1\" class=\"dataframe\">\n",
       "  <thead>\n",
       "    <tr style=\"text-align: right;\">\n",
       "      <th></th>\n",
       "      <th>tipo_dato</th>\n",
       "    </tr>\n",
       "  </thead>\n",
       "  <tbody>\n",
       "    <tr>\n",
       "      <th>user id</th>\n",
       "      <td>int64</td>\n",
       "    </tr>\n",
       "    <tr>\n",
       "      <th>test group</th>\n",
       "      <td>object</td>\n",
       "    </tr>\n",
       "    <tr>\n",
       "      <th>converted</th>\n",
       "      <td>bool</td>\n",
       "    </tr>\n",
       "    <tr>\n",
       "      <th>total ads</th>\n",
       "      <td>int64</td>\n",
       "    </tr>\n",
       "    <tr>\n",
       "      <th>most ads day</th>\n",
       "      <td>object</td>\n",
       "    </tr>\n",
       "    <tr>\n",
       "      <th>most ads hour</th>\n",
       "      <td>int64</td>\n",
       "    </tr>\n",
       "  </tbody>\n",
       "</table>\n",
       "</div>"
      ],
      "text/plain": [
       "              tipo_dato\n",
       "user id           int64\n",
       "test group       object\n",
       "converted          bool\n",
       "total ads         int64\n",
       "most ads day     object\n",
       "most ads hour     int64"
      ]
     },
     "metadata": {},
     "output_type": "display_data"
    },
    {
     "name": "stdout",
     "output_type": "stream",
     "text": [
      "\n",
      " ..................... \n",
      "\n",
      "Los valores que tenemos para las columnas categóricas son: \n",
      "La columna TEST GROUP tiene las siguientes valore únicos:\n"
     ]
    },
    {
     "data": {
      "text/html": [
       "<div>\n",
       "<style scoped>\n",
       "    .dataframe tbody tr th:only-of-type {\n",
       "        vertical-align: middle;\n",
       "    }\n",
       "\n",
       "    .dataframe tbody tr th {\n",
       "        vertical-align: top;\n",
       "    }\n",
       "\n",
       "    .dataframe thead th {\n",
       "        text-align: right;\n",
       "    }\n",
       "</style>\n",
       "<table border=\"1\" class=\"dataframe\">\n",
       "  <thead>\n",
       "    <tr style=\"text-align: right;\">\n",
       "      <th></th>\n",
       "      <th>count</th>\n",
       "    </tr>\n",
       "    <tr>\n",
       "      <th>test group</th>\n",
       "      <th></th>\n",
       "    </tr>\n",
       "  </thead>\n",
       "  <tbody>\n",
       "    <tr>\n",
       "      <th>ad</th>\n",
       "      <td>564577</td>\n",
       "    </tr>\n",
       "    <tr>\n",
       "      <th>psa</th>\n",
       "      <td>23524</td>\n",
       "    </tr>\n",
       "  </tbody>\n",
       "</table>\n",
       "</div>"
      ],
      "text/plain": [
       "             count\n",
       "test group        \n",
       "ad          564577\n",
       "psa          23524"
      ]
     },
     "metadata": {},
     "output_type": "display_data"
    },
    {
     "name": "stdout",
     "output_type": "stream",
     "text": [
      "La columna MOST ADS DAY tiene las siguientes valore únicos:\n"
     ]
    },
    {
     "data": {
      "text/html": [
       "<div>\n",
       "<style scoped>\n",
       "    .dataframe tbody tr th:only-of-type {\n",
       "        vertical-align: middle;\n",
       "    }\n",
       "\n",
       "    .dataframe tbody tr th {\n",
       "        vertical-align: top;\n",
       "    }\n",
       "\n",
       "    .dataframe thead th {\n",
       "        text-align: right;\n",
       "    }\n",
       "</style>\n",
       "<table border=\"1\" class=\"dataframe\">\n",
       "  <thead>\n",
       "    <tr style=\"text-align: right;\">\n",
       "      <th></th>\n",
       "      <th>count</th>\n",
       "    </tr>\n",
       "    <tr>\n",
       "      <th>most ads day</th>\n",
       "      <th></th>\n",
       "    </tr>\n",
       "  </thead>\n",
       "  <tbody>\n",
       "    <tr>\n",
       "      <th>Friday</th>\n",
       "      <td>92608</td>\n",
       "    </tr>\n",
       "    <tr>\n",
       "      <th>Monday</th>\n",
       "      <td>87073</td>\n",
       "    </tr>\n",
       "    <tr>\n",
       "      <th>Sunday</th>\n",
       "      <td>85391</td>\n",
       "    </tr>\n",
       "    <tr>\n",
       "      <th>Thursday</th>\n",
       "      <td>82982</td>\n",
       "    </tr>\n",
       "    <tr>\n",
       "      <th>Saturday</th>\n",
       "      <td>81660</td>\n",
       "    </tr>\n",
       "  </tbody>\n",
       "</table>\n",
       "</div>"
      ],
      "text/plain": [
       "              count\n",
       "most ads day       \n",
       "Friday        92608\n",
       "Monday        87073\n",
       "Sunday        85391\n",
       "Thursday      82982\n",
       "Saturday      81660"
      ]
     },
     "metadata": {},
     "output_type": "display_data"
    },
    {
     "name": "stdout",
     "output_type": "stream",
     "text": [
      "\n",
      " ..................... \n",
      "\n",
      "Los principales estadísticos de las columnas categóricas para el AD son: \n"
     ]
    },
    {
     "data": {
      "text/html": [
       "<div>\n",
       "<style scoped>\n",
       "    .dataframe tbody tr th:only-of-type {\n",
       "        vertical-align: middle;\n",
       "    }\n",
       "\n",
       "    .dataframe tbody tr th {\n",
       "        vertical-align: top;\n",
       "    }\n",
       "\n",
       "    .dataframe thead th {\n",
       "        text-align: right;\n",
       "    }\n",
       "</style>\n",
       "<table border=\"1\" class=\"dataframe\">\n",
       "  <thead>\n",
       "    <tr style=\"text-align: right;\">\n",
       "      <th></th>\n",
       "      <th>count</th>\n",
       "      <th>unique</th>\n",
       "      <th>top</th>\n",
       "      <th>freq</th>\n",
       "    </tr>\n",
       "  </thead>\n",
       "  <tbody>\n",
       "    <tr>\n",
       "      <th>test group</th>\n",
       "      <td>564577</td>\n",
       "      <td>1</td>\n",
       "      <td>ad</td>\n",
       "      <td>564577</td>\n",
       "    </tr>\n",
       "    <tr>\n",
       "      <th>most ads day</th>\n",
       "      <td>564577</td>\n",
       "      <td>7</td>\n",
       "      <td>Friday</td>\n",
       "      <td>88805</td>\n",
       "    </tr>\n",
       "  </tbody>\n",
       "</table>\n",
       "</div>"
      ],
      "text/plain": [
       "               count unique     top    freq\n",
       "test group    564577      1      ad  564577\n",
       "most ads day  564577      7  Friday   88805"
      ]
     },
     "metadata": {},
     "output_type": "display_data"
    },
    {
     "name": "stdout",
     "output_type": "stream",
     "text": [
      "\n",
      " ..................... \n",
      "\n",
      "Los principales estadísticos de las columnas numéricas para el AD son: \n"
     ]
    },
    {
     "data": {
      "text/html": [
       "<div>\n",
       "<style scoped>\n",
       "    .dataframe tbody tr th:only-of-type {\n",
       "        vertical-align: middle;\n",
       "    }\n",
       "\n",
       "    .dataframe tbody tr th {\n",
       "        vertical-align: top;\n",
       "    }\n",
       "\n",
       "    .dataframe thead th {\n",
       "        text-align: right;\n",
       "    }\n",
       "</style>\n",
       "<table border=\"1\" class=\"dataframe\">\n",
       "  <thead>\n",
       "    <tr style=\"text-align: right;\">\n",
       "      <th></th>\n",
       "      <th>count</th>\n",
       "      <th>mean</th>\n",
       "      <th>std</th>\n",
       "      <th>min</th>\n",
       "      <th>25%</th>\n",
       "      <th>50%</th>\n",
       "      <th>75%</th>\n",
       "      <th>max</th>\n",
       "    </tr>\n",
       "  </thead>\n",
       "  <tbody>\n",
       "    <tr>\n",
       "      <th>user id</th>\n",
       "      <td>564577.0</td>\n",
       "      <td>1.327314e+06</td>\n",
       "      <td>188918.061566</td>\n",
       "      <td>1000000.0</td>\n",
       "      <td>1163686.0</td>\n",
       "      <td>1327362.0</td>\n",
       "      <td>1490914.0</td>\n",
       "      <td>1654483.0</td>\n",
       "    </tr>\n",
       "    <tr>\n",
       "      <th>total ads</th>\n",
       "      <td>564577.0</td>\n",
       "      <td>2.482337e+01</td>\n",
       "      <td>43.750456</td>\n",
       "      <td>1.0</td>\n",
       "      <td>4.0</td>\n",
       "      <td>13.0</td>\n",
       "      <td>27.0</td>\n",
       "      <td>2065.0</td>\n",
       "    </tr>\n",
       "    <tr>\n",
       "      <th>most ads hour</th>\n",
       "      <td>564577.0</td>\n",
       "      <td>1.447590e+01</td>\n",
       "      <td>4.841808</td>\n",
       "      <td>0.0</td>\n",
       "      <td>11.0</td>\n",
       "      <td>14.0</td>\n",
       "      <td>18.0</td>\n",
       "      <td>23.0</td>\n",
       "    </tr>\n",
       "  </tbody>\n",
       "</table>\n",
       "</div>"
      ],
      "text/plain": [
       "                  count          mean            std        min        25%  \\\n",
       "user id        564577.0  1.327314e+06  188918.061566  1000000.0  1163686.0   \n",
       "total ads      564577.0  2.482337e+01      43.750456        1.0        4.0   \n",
       "most ads hour  564577.0  1.447590e+01       4.841808        0.0       11.0   \n",
       "\n",
       "                     50%        75%        max  \n",
       "user id        1327362.0  1490914.0  1654483.0  \n",
       "total ads           13.0       27.0     2065.0  \n",
       "most ads hour       14.0       18.0       23.0  "
      ]
     },
     "metadata": {},
     "output_type": "display_data"
    },
    {
     "name": "stdout",
     "output_type": "stream",
     "text": [
      "\n",
      " ..................... \n",
      "\n",
      "Los principales estadísticos de las columnas categóricas para el PSA son: \n"
     ]
    },
    {
     "data": {
      "text/html": [
       "<div>\n",
       "<style scoped>\n",
       "    .dataframe tbody tr th:only-of-type {\n",
       "        vertical-align: middle;\n",
       "    }\n",
       "\n",
       "    .dataframe tbody tr th {\n",
       "        vertical-align: top;\n",
       "    }\n",
       "\n",
       "    .dataframe thead th {\n",
       "        text-align: right;\n",
       "    }\n",
       "</style>\n",
       "<table border=\"1\" class=\"dataframe\">\n",
       "  <thead>\n",
       "    <tr style=\"text-align: right;\">\n",
       "      <th></th>\n",
       "      <th>count</th>\n",
       "      <th>unique</th>\n",
       "      <th>top</th>\n",
       "      <th>freq</th>\n",
       "    </tr>\n",
       "  </thead>\n",
       "  <tbody>\n",
       "    <tr>\n",
       "      <th>test group</th>\n",
       "      <td>23524</td>\n",
       "      <td>1</td>\n",
       "      <td>psa</td>\n",
       "      <td>23524</td>\n",
       "    </tr>\n",
       "    <tr>\n",
       "      <th>most ads day</th>\n",
       "      <td>23524</td>\n",
       "      <td>7</td>\n",
       "      <td>Thursday</td>\n",
       "      <td>3905</td>\n",
       "    </tr>\n",
       "  </tbody>\n",
       "</table>\n",
       "</div>"
      ],
      "text/plain": [
       "              count unique       top   freq\n",
       "test group    23524      1       psa  23524\n",
       "most ads day  23524      7  Thursday   3905"
      ]
     },
     "metadata": {},
     "output_type": "display_data"
    },
    {
     "name": "stdout",
     "output_type": "stream",
     "text": [
      "\n",
      " ..................... \n",
      "\n",
      "Los principales estadísticos de las columnas numéricas para el PSA son: \n"
     ]
    },
    {
     "data": {
      "text/html": [
       "<div>\n",
       "<style scoped>\n",
       "    .dataframe tbody tr th:only-of-type {\n",
       "        vertical-align: middle;\n",
       "    }\n",
       "\n",
       "    .dataframe tbody tr th {\n",
       "        vertical-align: top;\n",
       "    }\n",
       "\n",
       "    .dataframe thead th {\n",
       "        text-align: right;\n",
       "    }\n",
       "</style>\n",
       "<table border=\"1\" class=\"dataframe\">\n",
       "  <thead>\n",
       "    <tr style=\"text-align: right;\">\n",
       "      <th></th>\n",
       "      <th>count</th>\n",
       "      <th>mean</th>\n",
       "      <th>std</th>\n",
       "      <th>min</th>\n",
       "      <th>25%</th>\n",
       "      <th>50%</th>\n",
       "      <th>75%</th>\n",
       "      <th>max</th>\n",
       "    </tr>\n",
       "  </thead>\n",
       "  <tbody>\n",
       "    <tr>\n",
       "      <th>user id</th>\n",
       "      <td>23524.0</td>\n",
       "      <td>911761.500000</td>\n",
       "      <td>6790.938202</td>\n",
       "      <td>900000.0</td>\n",
       "      <td>905880.75</td>\n",
       "      <td>911761.5</td>\n",
       "      <td>917642.25</td>\n",
       "      <td>923523.0</td>\n",
       "    </tr>\n",
       "    <tr>\n",
       "      <th>total ads</th>\n",
       "      <td>23524.0</td>\n",
       "      <td>24.761138</td>\n",
       "      <td>42.860720</td>\n",
       "      <td>1.0</td>\n",
       "      <td>4.00</td>\n",
       "      <td>12.0</td>\n",
       "      <td>26.00</td>\n",
       "      <td>907.0</td>\n",
       "    </tr>\n",
       "    <tr>\n",
       "      <th>most ads hour</th>\n",
       "      <td>23524.0</td>\n",
       "      <td>14.304923</td>\n",
       "      <td>4.656239</td>\n",
       "      <td>0.0</td>\n",
       "      <td>11.00</td>\n",
       "      <td>14.0</td>\n",
       "      <td>18.00</td>\n",
       "      <td>23.0</td>\n",
       "    </tr>\n",
       "  </tbody>\n",
       "</table>\n",
       "</div>"
      ],
      "text/plain": [
       "                 count           mean          std       min        25%  \\\n",
       "user id        23524.0  911761.500000  6790.938202  900000.0  905880.75   \n",
       "total ads      23524.0      24.761138    42.860720       1.0       4.00   \n",
       "most ads hour  23524.0      14.304923     4.656239       0.0      11.00   \n",
       "\n",
       "                    50%        75%       max  \n",
       "user id        911761.5  917642.25  923523.0  \n",
       "total ads          12.0      26.00     907.0  \n",
       "most ads hour      14.0      18.00      23.0  "
      ]
     },
     "metadata": {},
     "output_type": "display_data"
    }
   ],
   "source": [
    "exploracion_dataframe(df,\"test group\")"
   ]
  },
  {
   "cell_type": "markdown",
   "metadata": {},
   "source": [
    "b) Calculo de la tasa de conversion"
   ]
  },
  {
   "cell_type": "markdown",
   "metadata": {},
   "source": [
    "c) verificación de la coherencia de los datos."
   ]
  },
  {
   "cell_type": "code",
   "execution_count": 14,
   "metadata": {},
   "outputs": [
    {
     "data": {
      "text/html": [
       "<div>\n",
       "<style scoped>\n",
       "    .dataframe tbody tr th:only-of-type {\n",
       "        vertical-align: middle;\n",
       "    }\n",
       "\n",
       "    .dataframe tbody tr th {\n",
       "        vertical-align: top;\n",
       "    }\n",
       "\n",
       "    .dataframe thead th {\n",
       "        text-align: right;\n",
       "    }\n",
       "</style>\n",
       "<table border=\"1\" class=\"dataframe\">\n",
       "  <thead>\n",
       "    <tr style=\"text-align: right;\">\n",
       "      <th></th>\n",
       "      <th>user id</th>\n",
       "      <th>test group</th>\n",
       "      <th>converted</th>\n",
       "      <th>total ads</th>\n",
       "      <th>most ads day</th>\n",
       "      <th>most ads hour</th>\n",
       "    </tr>\n",
       "  </thead>\n",
       "  <tbody>\n",
       "    <tr>\n",
       "      <th>0</th>\n",
       "      <td>1069124</td>\n",
       "      <td>ad</td>\n",
       "      <td>False</td>\n",
       "      <td>130</td>\n",
       "      <td>Monday</td>\n",
       "      <td>20</td>\n",
       "    </tr>\n",
       "    <tr>\n",
       "      <th>1</th>\n",
       "      <td>1119715</td>\n",
       "      <td>ad</td>\n",
       "      <td>False</td>\n",
       "      <td>93</td>\n",
       "      <td>Tuesday</td>\n",
       "      <td>22</td>\n",
       "    </tr>\n",
       "    <tr>\n",
       "      <th>2</th>\n",
       "      <td>1144181</td>\n",
       "      <td>ad</td>\n",
       "      <td>False</td>\n",
       "      <td>21</td>\n",
       "      <td>Tuesday</td>\n",
       "      <td>18</td>\n",
       "    </tr>\n",
       "    <tr>\n",
       "      <th>3</th>\n",
       "      <td>1435133</td>\n",
       "      <td>ad</td>\n",
       "      <td>False</td>\n",
       "      <td>355</td>\n",
       "      <td>Tuesday</td>\n",
       "      <td>10</td>\n",
       "    </tr>\n",
       "    <tr>\n",
       "      <th>4</th>\n",
       "      <td>1015700</td>\n",
       "      <td>ad</td>\n",
       "      <td>False</td>\n",
       "      <td>276</td>\n",
       "      <td>Friday</td>\n",
       "      <td>14</td>\n",
       "    </tr>\n",
       "  </tbody>\n",
       "</table>\n",
       "</div>"
      ],
      "text/plain": [
       "   user id test group  converted  total ads most ads day  most ads hour\n",
       "0  1069124         ad      False        130       Monday             20\n",
       "1  1119715         ad      False         93      Tuesday             22\n",
       "2  1144181         ad      False         21      Tuesday             18\n",
       "3  1435133         ad      False        355      Tuesday             10\n",
       "4  1015700         ad      False        276       Friday             14"
      ]
     },
     "execution_count": 14,
     "metadata": {},
     "output_type": "execute_result"
    }
   ],
   "source": [
    "df.head()"
   ]
  },
  {
   "cell_type": "code",
   "execution_count": 15,
   "metadata": {},
   "outputs": [
    {
     "data": {
      "text/plain": [
       "converted\n",
       "False    573258\n",
       "True      14843\n",
       "Name: count, dtype: int64"
      ]
     },
     "execution_count": 15,
     "metadata": {},
     "output_type": "execute_result"
    }
   ],
   "source": [
    "df['converted'].value_counts()"
   ]
  },
  {
   "cell_type": "code",
   "execution_count": 16,
   "metadata": {},
   "outputs": [
    {
     "data": {
      "text/plain": [
       "test group\n",
       "ad     564577\n",
       "psa     23524\n",
       "Name: count, dtype: int64"
      ]
     },
     "execution_count": 16,
     "metadata": {},
     "output_type": "execute_result"
    }
   ],
   "source": [
    "df['test group'].value_counts()"
   ]
  },
  {
   "cell_type": "code",
   "execution_count": 25,
   "metadata": {},
   "outputs": [
    {
     "data": {
      "text/plain": [
       "0.03"
      ]
     },
     "execution_count": 25,
     "metadata": {},
     "output_type": "execute_result"
    }
   ],
   "source": [
    "#Para el grupo \"ad\", la tasa de conversión es el número de usuarios convertidos dividido por el número total de usuarios en ese grupo.\n",
    "\n",
    "# calculamos la Tasa de Conversión\n",
    "ad_convertido = round ((14843 / 564577), 2)\n",
    "ad_convertido"
   ]
  },
  {
   "cell_type": "code",
   "execution_count": 26,
   "metadata": {},
   "outputs": [
    {
     "data": {
      "text/plain": [
       "0.63"
      ]
     },
     "execution_count": 26,
     "metadata": {},
     "output_type": "execute_result"
    }
   ],
   "source": [
    "# calculamos la Tasa de Conversión\n",
    "psa_convertido = round((14843 / 23524) , 2)\n",
    "psa_convertido"
   ]
  },
  {
   "cell_type": "code",
   "execution_count": 20,
   "metadata": {},
   "outputs": [
    {
     "data": {
      "text/html": [
       "<div>\n",
       "<style scoped>\n",
       "    .dataframe tbody tr th:only-of-type {\n",
       "        vertical-align: middle;\n",
       "    }\n",
       "\n",
       "    .dataframe tbody tr th {\n",
       "        vertical-align: top;\n",
       "    }\n",
       "\n",
       "    .dataframe thead th {\n",
       "        text-align: right;\n",
       "    }\n",
       "</style>\n",
       "<table border=\"1\" class=\"dataframe\">\n",
       "  <thead>\n",
       "    <tr style=\"text-align: right;\">\n",
       "      <th></th>\n",
       "      <th>user id</th>\n",
       "      <th>test group</th>\n",
       "      <th>converted</th>\n",
       "      <th>total ads</th>\n",
       "      <th>most ads day</th>\n",
       "      <th>most ads hour</th>\n",
       "    </tr>\n",
       "  </thead>\n",
       "  <tbody>\n",
       "    <tr>\n",
       "      <th>0</th>\n",
       "      <td>1069124</td>\n",
       "      <td>ad</td>\n",
       "      <td>False</td>\n",
       "      <td>130</td>\n",
       "      <td>Monday</td>\n",
       "      <td>20</td>\n",
       "    </tr>\n",
       "    <tr>\n",
       "      <th>1</th>\n",
       "      <td>1119715</td>\n",
       "      <td>ad</td>\n",
       "      <td>False</td>\n",
       "      <td>93</td>\n",
       "      <td>Tuesday</td>\n",
       "      <td>22</td>\n",
       "    </tr>\n",
       "    <tr>\n",
       "      <th>2</th>\n",
       "      <td>1144181</td>\n",
       "      <td>ad</td>\n",
       "      <td>False</td>\n",
       "      <td>21</td>\n",
       "      <td>Tuesday</td>\n",
       "      <td>18</td>\n",
       "    </tr>\n",
       "    <tr>\n",
       "      <th>3</th>\n",
       "      <td>1435133</td>\n",
       "      <td>ad</td>\n",
       "      <td>False</td>\n",
       "      <td>355</td>\n",
       "      <td>Tuesday</td>\n",
       "      <td>10</td>\n",
       "    </tr>\n",
       "    <tr>\n",
       "      <th>4</th>\n",
       "      <td>1015700</td>\n",
       "      <td>ad</td>\n",
       "      <td>False</td>\n",
       "      <td>276</td>\n",
       "      <td>Friday</td>\n",
       "      <td>14</td>\n",
       "    </tr>\n",
       "  </tbody>\n",
       "</table>\n",
       "</div>"
      ],
      "text/plain": [
       "   user id test group  converted  total ads most ads day  most ads hour\n",
       "0  1069124         ad      False        130       Monday             20\n",
       "1  1119715         ad      False         93      Tuesday             22\n",
       "2  1144181         ad      False         21      Tuesday             18\n",
       "3  1435133         ad      False        355      Tuesday             10\n",
       "4  1015700         ad      False        276       Friday             14"
      ]
     },
     "execution_count": 20,
     "metadata": {},
     "output_type": "execute_result"
    }
   ],
   "source": [
    "df.head()"
   ]
  },
  {
   "cell_type": "code",
   "execution_count": 21,
   "metadata": {},
   "outputs": [
    {
     "name": "stdout",
     "output_type": "stream",
     "text": [
      "\u001b[1;31mSignature:\u001b[0m \u001b[0mstats\u001b[0m\u001b[1;33m.\u001b[0m\u001b[0mshapiro\u001b[0m\u001b[1;33m(\u001b[0m\u001b[0mx\u001b[0m\u001b[1;33m,\u001b[0m \u001b[1;33m*\u001b[0m\u001b[1;33m,\u001b[0m \u001b[0maxis\u001b[0m\u001b[1;33m=\u001b[0m\u001b[1;32mNone\u001b[0m\u001b[1;33m,\u001b[0m \u001b[0mnan_policy\u001b[0m\u001b[1;33m=\u001b[0m\u001b[1;34m'propagate'\u001b[0m\u001b[1;33m,\u001b[0m \u001b[0mkeepdims\u001b[0m\u001b[1;33m=\u001b[0m\u001b[1;32mFalse\u001b[0m\u001b[1;33m)\u001b[0m\u001b[1;33m\u001b[0m\u001b[1;33m\u001b[0m\u001b[0m\n",
      "\u001b[1;31mDocstring:\u001b[0m\n",
      "Perform the Shapiro-Wilk test for normality.\n",
      "\n",
      "The Shapiro-Wilk test tests the null hypothesis that the\n",
      "data was drawn from a normal distribution.\n",
      "\n",
      "Parameters\n",
      "----------\n",
      "x : array_like\n",
      "    Array of sample data.\n",
      "axis : int or None, default: None\n",
      "    If an int, the axis of the input along which to compute the statistic.\n",
      "    The statistic of each axis-slice (e.g. row) of the input will appear in a\n",
      "    corresponding element of the output.\n",
      "    If ``None``, the input will be raveled before computing the statistic.\n",
      "nan_policy : {'propagate', 'omit', 'raise'}\n",
      "    Defines how to handle input NaNs.\n",
      "    \n",
      "    - ``propagate``: if a NaN is present in the axis slice (e.g. row) along\n",
      "      which the  statistic is computed, the corresponding entry of the output\n",
      "      will be NaN.\n",
      "    - ``omit``: NaNs will be omitted when performing the calculation.\n",
      "      If insufficient data remains in the axis slice along which the\n",
      "      statistic is computed, the corresponding entry of the output will be\n",
      "      NaN.\n",
      "    - ``raise``: if a NaN is present, a ``ValueError`` will be raised.\n",
      "keepdims : bool, default: False\n",
      "    If this is set to True, the axes which are reduced are left\n",
      "    in the result as dimensions with size one. With this option,\n",
      "    the result will broadcast correctly against the input array.\n",
      "\n",
      "Returns\n",
      "-------\n",
      "statistic : float\n",
      "    The test statistic.\n",
      "p-value : float\n",
      "    The p-value for the hypothesis test.\n",
      "\n",
      "See Also\n",
      "--------\n",
      "\n",
      ":func:`anderson`\n",
      "    The Anderson-Darling test for normality\n",
      ":func:`kstest`\n",
      "    The Kolmogorov-Smirnov test for goodness of fit.\n",
      "\n",
      "\n",
      "Notes\n",
      "-----\n",
      "The algorithm used is described in [4]_ but censoring parameters as\n",
      "described are not implemented. For N > 5000 the W test statistic is\n",
      "accurate, but the p-value may not be.\n",
      "\n",
      "Beginning in SciPy 1.9, ``np.matrix`` inputs (not recommended for new\n",
      "code) are converted to ``np.ndarray`` before the calculation is performed. In\n",
      "this case, the output will be a scalar or ``np.ndarray`` of appropriate shape\n",
      "rather than a 2D ``np.matrix``. Similarly, while masked elements of masked\n",
      "arrays are ignored, the output will be a scalar or ``np.ndarray`` rather than a\n",
      "masked array with ``mask=False``.\n",
      "\n",
      "References\n",
      "----------\n",
      ".. [1] https://www.itl.nist.gov/div898/handbook/prc/section2/prc213.htm\n",
      "       :doi:`10.18434/M32189`\n",
      ".. [2] Shapiro, S. S. & Wilk, M.B, \"An analysis of variance test for\n",
      "       normality (complete samples)\", Biometrika, 1965, Vol. 52,\n",
      "       pp. 591-611, :doi:`10.2307/2333709`\n",
      ".. [3] Razali, N. M. & Wah, Y. B., \"Power comparisons of Shapiro-Wilk,\n",
      "       Kolmogorov-Smirnov, Lilliefors and Anderson-Darling tests\", Journal\n",
      "       of Statistical Modeling and Analytics, 2011, Vol. 2, pp. 21-33.\n",
      ".. [4] Royston P., \"Remark AS R94: A Remark on Algorithm AS 181: The\n",
      "       W-test for Normality\", 1995, Applied Statistics, Vol. 44,\n",
      "       :doi:`10.2307/2986146`\n",
      ".. [5] Phipson B., and Smyth, G. K., \"Permutation P-values Should Never Be\n",
      "       Zero: Calculating Exact P-values When Permutations Are Randomly\n",
      "       Drawn\", Statistical Applications in Genetics and Molecular Biology,\n",
      "       2010, Vol.9, :doi:`10.2202/1544-6115.1585`\n",
      ".. [6] Panagiotakos, D. B., \"The value of p-value in biomedical\n",
      "       research\", The Open Cardiovascular Medicine Journal, 2008, Vol.2,\n",
      "       pp. 97-99, :doi:`10.2174/1874192400802010097`\n",
      "\n",
      "Examples\n",
      "--------\n",
      "Suppose we wish to infer from measurements whether the weights of adult\n",
      "human males in a medical study are not normally distributed [2]_.\n",
      "The weights (lbs) are recorded in the array ``x`` below.\n",
      "\n",
      ">>> import numpy as np\n",
      ">>> x = np.array([148, 154, 158, 160, 161, 162, 166, 170, 182, 195, 236])\n",
      "\n",
      "The normality test of [1]_ and [2]_ begins by computing a statistic based\n",
      "on the relationship between the observations and the expected order\n",
      "statistics of a normal distribution.\n",
      "\n",
      ">>> from scipy import stats\n",
      ">>> res = stats.shapiro(x)\n",
      ">>> res.statistic\n",
      "0.7888147830963135\n",
      "\n",
      "The value of this statistic tends to be high (close to 1) for samples drawn\n",
      "from a normal distribution.\n",
      "\n",
      "The test is performed by comparing the observed value of the statistic\n",
      "against the null distribution: the distribution of statistic values formed\n",
      "under the null hypothesis that the weights were drawn from a normal\n",
      "distribution. For this normality test, the null distribution is not easy to\n",
      "calculate exactly, so it is usually approximated by Monte Carlo methods,\n",
      "that is, drawing many samples of the same size as ``x`` from a normal\n",
      "distribution and computing the values of the statistic for each.\n",
      "\n",
      ">>> def statistic(x):\n",
      "...     # Get only the `shapiro` statistic; ignore its p-value\n",
      "...     return stats.shapiro(x).statistic\n",
      ">>> ref = stats.monte_carlo_test(x, stats.norm.rvs, statistic,\n",
      "...                              alternative='less')\n",
      ">>> import matplotlib.pyplot as plt\n",
      ">>> fig, ax = plt.subplots(figsize=(8, 5))\n",
      ">>> bins = np.linspace(0.65, 1, 50)\n",
      ">>> def plot(ax):  # we'll reuse this\n",
      "...     ax.hist(ref.null_distribution, density=True, bins=bins)\n",
      "...     ax.set_title(\"Shapiro-Wilk Test Null Distribution \\n\"\n",
      "...                  \"(Monte Carlo Approximation, 11 Observations)\")\n",
      "...     ax.set_xlabel(\"statistic\")\n",
      "...     ax.set_ylabel(\"probability density\")\n",
      ">>> plot(ax)\n",
      ">>> plt.show()\n",
      "\n",
      "The comparison is quantified by the p-value: the proportion of values in\n",
      "the null distribution less than or equal to the observed value of the\n",
      "statistic.\n",
      "\n",
      ">>> fig, ax = plt.subplots(figsize=(8, 5))\n",
      ">>> plot(ax)\n",
      ">>> annotation = (f'p-value={res.pvalue:.6f}\\n(highlighted area)')\n",
      ">>> props = dict(facecolor='black', width=1, headwidth=5, headlength=8)\n",
      ">>> _ = ax.annotate(annotation, (0.75, 0.1), (0.68, 0.7), arrowprops=props)\n",
      ">>> i_extreme = np.where(bins <= res.statistic)[0]\n",
      ">>> for i in i_extreme:\n",
      "...     ax.patches[i].set_color('C1')\n",
      ">>> plt.xlim(0.65, 0.9)\n",
      ">>> plt.ylim(0, 4)\n",
      ">>> plt.show\n",
      ">>> res.pvalue\n",
      "0.006703833118081093\n",
      "\n",
      "If the p-value is \"small\" - that is, if there is a low probability of\n",
      "sampling data from a normally distributed population that produces such an\n",
      "extreme value of the statistic - this may be taken as evidence against\n",
      "the null hypothesis in favor of the alternative: the weights were not\n",
      "drawn from a normal distribution. Note that:\n",
      "\n",
      "- The inverse is not true; that is, the test is not used to provide\n",
      "  evidence *for* the null hypothesis.\n",
      "- The threshold for values that will be considered \"small\" is a choice that\n",
      "  should be made before the data is analyzed [5]_ with consideration of the\n",
      "  risks of both false positives (incorrectly rejecting the null hypothesis)\n",
      "  and false negatives (failure to reject a false null hypothesis).\n",
      "\u001b[1;31mFile:\u001b[0m      c:\\users\\matia\\appdata\\local\\programs\\python\\python312\\lib\\site-packages\\scipy\\stats\\_morestats.py\n",
      "\u001b[1;31mType:\u001b[0m      function"
     ]
    }
   ],
   "source": [
    "stats.shapiro?"
   ]
  },
  {
   "cell_type": "markdown",
   "metadata": {},
   "source": [
    "# Desde aqui comienzo de nuevo considerando lo que dijeron las profres y ayuda de chat gpt"
   ]
  },
  {
   "cell_type": "markdown",
   "metadata": {},
   "source": [
    "Ejercicio 1: determinar si un nuevo diseño de anuncio (test group \"ad\") tiene un impacto significativo en la tasa de conversión en comparación con el diseño de anuncio anterior (test group \"psa\")."
   ]
  },
  {
   "cell_type": "code",
   "execution_count": 36,
   "metadata": {},
   "outputs": [
    {
     "data": {
      "text/html": [
       "<div>\n",
       "<style scoped>\n",
       "    .dataframe tbody tr th:only-of-type {\n",
       "        vertical-align: middle;\n",
       "    }\n",
       "\n",
       "    .dataframe tbody tr th {\n",
       "        vertical-align: top;\n",
       "    }\n",
       "\n",
       "    .dataframe thead th {\n",
       "        text-align: right;\n",
       "    }\n",
       "</style>\n",
       "<table border=\"1\" class=\"dataframe\">\n",
       "  <thead>\n",
       "    <tr style=\"text-align: right;\">\n",
       "      <th></th>\n",
       "      <th>user id</th>\n",
       "      <th>test group</th>\n",
       "      <th>converted</th>\n",
       "      <th>total ads</th>\n",
       "      <th>most ads day</th>\n",
       "      <th>most ads hour</th>\n",
       "      <th>tasa_conversion</th>\n",
       "    </tr>\n",
       "  </thead>\n",
       "  <tbody>\n",
       "    <tr>\n",
       "      <th>0</th>\n",
       "      <td>1069124</td>\n",
       "      <td>ad</td>\n",
       "      <td>False</td>\n",
       "      <td>130</td>\n",
       "      <td>Monday</td>\n",
       "      <td>20</td>\n",
       "      <td>0.03</td>\n",
       "    </tr>\n",
       "    <tr>\n",
       "      <th>1</th>\n",
       "      <td>1119715</td>\n",
       "      <td>ad</td>\n",
       "      <td>False</td>\n",
       "      <td>93</td>\n",
       "      <td>Tuesday</td>\n",
       "      <td>22</td>\n",
       "      <td>0.03</td>\n",
       "    </tr>\n",
       "    <tr>\n",
       "      <th>2</th>\n",
       "      <td>1144181</td>\n",
       "      <td>ad</td>\n",
       "      <td>False</td>\n",
       "      <td>21</td>\n",
       "      <td>Tuesday</td>\n",
       "      <td>18</td>\n",
       "      <td>0.03</td>\n",
       "    </tr>\n",
       "    <tr>\n",
       "      <th>3</th>\n",
       "      <td>1435133</td>\n",
       "      <td>ad</td>\n",
       "      <td>False</td>\n",
       "      <td>355</td>\n",
       "      <td>Tuesday</td>\n",
       "      <td>10</td>\n",
       "      <td>0.03</td>\n",
       "    </tr>\n",
       "    <tr>\n",
       "      <th>4</th>\n",
       "      <td>1015700</td>\n",
       "      <td>ad</td>\n",
       "      <td>False</td>\n",
       "      <td>276</td>\n",
       "      <td>Friday</td>\n",
       "      <td>14</td>\n",
       "      <td>0.03</td>\n",
       "    </tr>\n",
       "    <tr>\n",
       "      <th>...</th>\n",
       "      <td>...</td>\n",
       "      <td>...</td>\n",
       "      <td>...</td>\n",
       "      <td>...</td>\n",
       "      <td>...</td>\n",
       "      <td>...</td>\n",
       "      <td>...</td>\n",
       "    </tr>\n",
       "    <tr>\n",
       "      <th>588096</th>\n",
       "      <td>1278437</td>\n",
       "      <td>ad</td>\n",
       "      <td>False</td>\n",
       "      <td>1</td>\n",
       "      <td>Tuesday</td>\n",
       "      <td>23</td>\n",
       "      <td>0.03</td>\n",
       "    </tr>\n",
       "    <tr>\n",
       "      <th>588097</th>\n",
       "      <td>1327975</td>\n",
       "      <td>ad</td>\n",
       "      <td>False</td>\n",
       "      <td>1</td>\n",
       "      <td>Tuesday</td>\n",
       "      <td>23</td>\n",
       "      <td>0.03</td>\n",
       "    </tr>\n",
       "    <tr>\n",
       "      <th>588098</th>\n",
       "      <td>1038442</td>\n",
       "      <td>ad</td>\n",
       "      <td>False</td>\n",
       "      <td>3</td>\n",
       "      <td>Tuesday</td>\n",
       "      <td>23</td>\n",
       "      <td>0.03</td>\n",
       "    </tr>\n",
       "    <tr>\n",
       "      <th>588099</th>\n",
       "      <td>1496395</td>\n",
       "      <td>ad</td>\n",
       "      <td>False</td>\n",
       "      <td>1</td>\n",
       "      <td>Tuesday</td>\n",
       "      <td>23</td>\n",
       "      <td>0.03</td>\n",
       "    </tr>\n",
       "    <tr>\n",
       "      <th>588100</th>\n",
       "      <td>1237779</td>\n",
       "      <td>ad</td>\n",
       "      <td>False</td>\n",
       "      <td>1</td>\n",
       "      <td>Tuesday</td>\n",
       "      <td>23</td>\n",
       "      <td>0.03</td>\n",
       "    </tr>\n",
       "  </tbody>\n",
       "</table>\n",
       "<p>588101 rows × 7 columns</p>\n",
       "</div>"
      ],
      "text/plain": [
       "        user id test group  converted  total ads most ads day  most ads hour  \\\n",
       "0       1069124         ad      False        130       Monday             20   \n",
       "1       1119715         ad      False         93      Tuesday             22   \n",
       "2       1144181         ad      False         21      Tuesday             18   \n",
       "3       1435133         ad      False        355      Tuesday             10   \n",
       "4       1015700         ad      False        276       Friday             14   \n",
       "...         ...        ...        ...        ...          ...            ...   \n",
       "588096  1278437         ad      False          1      Tuesday             23   \n",
       "588097  1327975         ad      False          1      Tuesday             23   \n",
       "588098  1038442         ad      False          3      Tuesday             23   \n",
       "588099  1496395         ad      False          1      Tuesday             23   \n",
       "588100  1237779         ad      False          1      Tuesday             23   \n",
       "\n",
       "        tasa_conversion  \n",
       "0                  0.03  \n",
       "1                  0.03  \n",
       "2                  0.03  \n",
       "3                  0.03  \n",
       "4                  0.03  \n",
       "...                 ...  \n",
       "588096             0.03  \n",
       "588097             0.03  \n",
       "588098             0.03  \n",
       "588099             0.03  \n",
       "588100             0.03  \n",
       "\n",
       "[588101 rows x 7 columns]"
      ]
     },
     "execution_count": 36,
     "metadata": {},
     "output_type": "execute_result"
    }
   ],
   "source": [
    "# Usar np.where para asignar valores basados en la condición\n",
    "df['tasa_conversion'] = np.where(df['test group'] == 'ad', ad_convertido, psa_convertido)\n",
    "\n",
    "df"
   ]
  },
  {
   "cell_type": "code",
   "execution_count": 38,
   "metadata": {},
   "outputs": [],
   "source": [
    "# Extraer las tasas de conversión para cada grupo\n",
    "ad_conversion = df[df['test group'] == 'ad']['converted']\n",
    "psa_conversion = df[df['test group'] == 'psa']['converted']"
   ]
  },
  {
   "cell_type": "code",
   "execution_count": 41,
   "metadata": {},
   "outputs": [
    {
     "name": "stdout",
     "output_type": "stream",
     "text": [
      "p-value = 1.7033052627831264e-13: Rechazamos la hipótesis nula. Hay una diferencia significativa en las tasas de conversión entre los grupos 'ad' y 'psa'.\n"
     ]
    }
   ],
   "source": [
    "# Realizar la prueba t\n",
    "t_stat, p_value = ttest_ind(ad_conversion, psa_conversion)\n",
    "if p_value < 0.05:\n",
    "    print(f\"p-value = {p_value}: Rechazamos la hipótesis nula. Hay una diferencia significativa en las tasas de conversión entre los grupos 'ad' y 'psa'.\")\n",
    "else:\n",
    "    print(f\"p-value = {p_value}: No podemos rechazar la hipótesis nula. No hay evidencia suficiente para afirmar que hay una diferencia significativa.\")"
   ]
  },
  {
   "cell_type": "markdown",
   "metadata": {},
   "source": [
    "Ejercicio 2: \n",
    "Comparar la cantidad promedio de anuncios vistos por los usuarios en los grupos \"ad\" y \"psa\" y determinar si hay una diferencia significativa entre ellos."
   ]
  },
  {
   "cell_type": "code",
   "execution_count": 43,
   "metadata": {},
   "outputs": [],
   "source": [
    "\n",
    "# Separar los datos por grupo\n",
    "ad_ads_viewed = df[df['test group'] == 'ad']['total ads']\n",
    "psa_ads_viewed = df[df['test group'] == 'psa']['total ads']"
   ]
  },
  {
   "cell_type": "code",
   "execution_count": 45,
   "metadata": {},
   "outputs": [
    {
     "name": "stdout",
     "output_type": "stream",
     "text": [
      "Prueba t - Valor p: 0.8306134186810267\n",
      "p-value = 0.8306134186810267: No podemos rechazar la hipótesis nula. No hay evidencia suficiente para afirmar que hay una diferencia significativa.\n"
     ]
    }
   ],
   "source": [
    "# Realizar la prueba t\n",
    "t_stat, p_value = ttest_ind(ad_ads_viewed, psa_ads_viewed)\n",
    "\n",
    "print(f\"Prueba t - Valor p: {p_value}\")\n",
    "\n",
    "if p_value < 0.05:\n",
    "    print(f\"p-value = {p_value}: Rechazamos la hipótesis nula. Hay una diferencia significativa en la cantidad promedio de anuncios vistos por usuario entre los grupos 'ad' y 'psa'.\")\n",
    "else:\n",
    "    print(f\"p-value = {p_value}: No podemos rechazar la hipótesis nula. No hay evidencia suficiente para afirmar que hay una diferencia significativa.\")"
   ]
  }
 ],
 "metadata": {
  "kernelspec": {
   "display_name": "Python 3",
   "language": "python",
   "name": "python3"
  },
  "language_info": {
   "codemirror_mode": {
    "name": "ipython",
    "version": 3
   },
   "file_extension": ".py",
   "mimetype": "text/x-python",
   "name": "python",
   "nbconvert_exporter": "python",
   "pygments_lexer": "ipython3",
   "version": "3.12.3"
  }
 },
 "nbformat": 4,
 "nbformat_minor": 2
}
